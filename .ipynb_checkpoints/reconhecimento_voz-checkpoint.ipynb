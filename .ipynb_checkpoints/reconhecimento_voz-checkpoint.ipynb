{
 "cells": [
  {
   "cell_type": "markdown",
   "id": "9fa491c4",
   "metadata": {},
   "source": [
    "pip install ipykernel\n",
    "pip install pyaudio\n",
    "pip install gtts\n",
    "pip install SpeechRecognition"
   ]
  },
  {
   "cell_type": "code",
   "execution_count": null,
   "id": "149bb451",
   "metadata": {},
   "outputs": [],
   "source": [
    "from gtts import gTTS\n",
    "import speech_recognition as reconhecimento_fala\n",
    "from IPython.display import Audio"
   ]
  },
  {
   "cell_type": "code",
   "execution_count": null,
   "id": "e7e5e24f",
   "metadata": {},
   "outputs": [],
   "source": [
    "tts = gTTS(text = \"Hi\",\n",
    "                  lang = \"en\",\n",
    "                  slow = False)\n",
    "tts.save(\"tts.wav\")\n",
    "Audio('tts.wav', autoplay = True)"
   ]
  },
  {
   "cell_type": "code",
   "execution_count": null,
   "id": "9fe51808",
   "metadata": {},
   "outputs": [],
   "source": [
    "def falar(frase):\n",
    "    tts = gTTS(text = frase)\n",
    "    tts.save(\"fala.wav\")\n",
    "    Audio('fala.wav', autoplay = True)"
   ]
  },
  {
   "cell_type": "code",
   "execution_count": null,
   "id": "18d6b51e",
   "metadata": {},
   "outputs": [
    {
     "name": "stdout",
     "output_type": "stream",
     "text": [
      "You said: how are you\n",
      "You said: exit\n"
     ]
    }
   ],
   "source": [
    "def ouvir_comando():\n",
    "    r = reconhecimento_fala.Recognizer()\n",
    "    audio_reconhecido = \"\"\n",
    "    with reconhecimento_fala.Microphone() as origem:\n",
    "        r.pause_threshold = 1\n",
    "        r.adjust_for_ambient_noise(origem, duration=1)\n",
    "        audio = r.listen(origem)\n",
    "        try:\n",
    "            audio_reconhecido = r.recognize_google(audio)\n",
    "        except reconhecimento_fala.UnknownValueError:\n",
    "            falar(\"Sorry i could not understand\")\n",
    "        except reconhecimento_fala.RequestError:\n",
    "            falar(\"Request error.\")\n",
    "\n",
    "    print(f\"You said: {audio_reconhecido.lower()}\")\n",
    "    return audio_reconhecido.lower()\n",
    "\n",
    "while True:\n",
    "  falar(\"Say something to me\")\n",
    "  audio = ouvir_comando()\n",
    "  if audio == \"exit\":\n",
    "    break"
   ]
  }
 ],
 "metadata": {
  "kernelspec": {
   "display_name": "Python 3 (ipykernel)",
   "language": "python",
   "name": "python3"
  },
  "language_info": {
   "codemirror_mode": {
    "name": "ipython",
    "version": 3
   },
   "file_extension": ".py",
   "mimetype": "text/x-python",
   "name": "python",
   "nbconvert_exporter": "python",
   "pygments_lexer": "ipython3",
   "version": "3.13.5"
  }
 },
 "nbformat": 4,
 "nbformat_minor": 5
}

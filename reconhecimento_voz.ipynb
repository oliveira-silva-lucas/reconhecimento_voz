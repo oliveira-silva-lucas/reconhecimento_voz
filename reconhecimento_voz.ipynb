{
 "cells": [
  {
   "cell_type": "markdown",
   "id": "9fa491c4",
   "metadata": {},
   "source": [
    "Bibliotecas instaladas\n",
    "\n",
    "pip install ipykernel\n",
    "pip install pyaudio\n",
    "pip install gtts\n",
    "pip install SpeechRecognition\n",
    "pip install pygame\n"
   ]
  },
  {
   "cell_type": "code",
   "execution_count": 66,
   "id": "149bb451",
   "metadata": {},
   "outputs": [],
   "source": [
    "from gtts import gTTS\n",
    "import speech_recognition as reconhecimento_fala\n",
    "from IPython.display import Audio\n",
    "import pygame\n",
    "import webbrowser\n",
    "import time"
   ]
  },
  {
   "cell_type": "code",
   "execution_count": null,
   "id": "9fe51808",
   "metadata": {},
   "outputs": [],
   "source": [
    "def falar(frase):\n",
    "    if not (pygame.mixer.get_init()):\n",
    "        pygame.mixer.init()\n",
    "    \n",
    "    tts = gTTS(frase,lang=\"pt-br\")\n",
    "    tts.save(\"fala.mp3\")\n",
    "    \n",
    "    pygame.mixer.music.load(\"fala.mp3\")\n",
    "    pygame.mixer.music.play()\n",
    "    while pygame.mixer.music.get_busy():\n",
    "        time.sleep(0.3) \n",
    "    pygame.mixer.music.unload()\n",
    "   "
   ]
  },
  {
   "cell_type": "code",
   "execution_count": 74,
   "id": "18d6b51e",
   "metadata": {},
   "outputs": [
    {
     "name": "stdout",
     "output_type": "stream",
     "text": [
      "Você disse: pesquise\n",
      "Você disse: aviões\n",
      "Você disse: youtube\n",
      "Você disse: transporte\n",
      "Você disse: sair\n"
     ]
    }
   ],
   "source": [
    "def ouvir_comando():\n",
    "    r = reconhecimento_fala.Recognizer()\n",
    "    audio_reconhecido = \"\"\n",
    "    with reconhecimento_fala.Microphone() as origem:\n",
    "        r.pause_threshold = 1\n",
    "        r.adjust_for_ambient_noise(origem, duration=1)\n",
    "        audio = r.listen(origem, phrase_time_limit= 5)\n",
    "        try:\n",
    "            audio_reconhecido = r.recognize_google(audio, language=\"pt-br\")\n",
    "        except reconhecimento_fala.UnknownValueError:\n",
    "            falar(\"Desculpa não entendi o que você disse\")\n",
    "        except reconhecimento_fala.RequestError:\n",
    "            falar(\"Erro na requisição\")\n",
    "    if audio_reconhecido != \"\":\n",
    "        print(f\"Você disse: {audio_reconhecido.lower()}\")\n",
    "    return audio_reconhecido.lower()\n",
    "\n",
    "falar(\"Olá tudo bom?\")\n",
    "while True:\n",
    "    falar(\"ouvindo\")\n",
    "    comando = ouvir_comando()\n",
    "    if comando == \"sair\":\n",
    "        break\n",
    "    if 'youtube' in comando:\n",
    "        falar(\"O que você quer que eu pesquise no youtube?\")\n",
    "        pesquisa = \"\"\n",
    "        pesquisa = ouvir_comando()\n",
    "        if pesquisa != \"\":\n",
    "            url = f\"https://www.youtube.com/results?search_query={pesquisa}\"\n",
    "            webbrowser.get().open(url)\n",
    "            falar(f\"Aqui o que eu encontrei de {pesquisa} no youtube\")\n",
    "    elif 'pesquise' in comando:\n",
    "        falar(\"o que você quer que eu pesquise\")\n",
    "        pesquisa = \"\"\n",
    "        pesquisa = ouvir_comando()\n",
    "        if pesquisa != \"\":\n",
    "            url = f\"https://www.bing.com/search?q={pesquisa}\"\n",
    "            webbrowser.get().open(url)\n",
    "            falar(f\"Aqui o que eu encontrei de {pesquisa}\")"
   ]
  }
 ],
 "metadata": {
  "kernelspec": {
   "display_name": "Python 3 (ipykernel)",
   "language": "python",
   "name": "python3"
  },
  "language_info": {
   "codemirror_mode": {
    "name": "ipython",
    "version": 3
   },
   "file_extension": ".py",
   "mimetype": "text/x-python",
   "name": "python",
   "nbconvert_exporter": "python",
   "pygments_lexer": "ipython3",
   "version": "3.13.5"
  }
 },
 "nbformat": 4,
 "nbformat_minor": 5
}
